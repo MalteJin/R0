{
 "cells": [
  {
   "cell_type": "markdown",
   "metadata": {
    "toc": "true"
   },
   "source": [
    "# Table of Contents\n",
    " <p><div class=\"lev1\"><a href=\"#Einleitung\"><span class=\"toc-item-num\">1 - </span>Einleitung</a></div><div class=\"lev2\"><a href=\"#Motivation\"><span class=\"toc-item-num\">1.1 - </span>Motivation</a></div><div class=\"lev2\"><a href=\"#Präsentationsform\"><span class=\"toc-item-num\">1.2 - </span>Präsentationsform</a></div><div class=\"lev2\"><a href=\"#Initialisierung\"><span class=\"toc-item-num\">1.3 - </span>Initialisierung</a></div><div class=\"lev1\"><a href=\"#Nennwerte-der-Synchronmaschine\"><span class=\"toc-item-num\">2 - </span>Nennwerte der Synchronmaschine</a></div><div class=\"lev2\"><a href=\"#Datenblattwerte\"><span class=\"toc-item-num\">2.1 - </span>Datenblattwerte</a></div><div class=\"lev2\"><a href=\"#Abgeleitete-Größen-für-den--Nennarbeitspunkt\"><span class=\"toc-item-num\">2.2 - </span>Abgeleitete Größen für den  Nennarbeitspunkt</a></div><div class=\"lev2\"><a href=\"#Zeigerdiagramm\"><span class=\"toc-item-num\">2.3 - </span>Zeigerdiagramm</a></div><div class=\"lev1\"><a href=\"#PQ-Diagramme\"><span class=\"toc-item-num\">3 - </span>PQ-Diagramme</a></div><div class=\"lev2\"><a href=\"#Leistungsdiagramm-der-Vollpolmaschine\"><span class=\"toc-item-num\">3.1 - </span>Leistungsdiagramm der Vollpolmaschine</a></div><div class=\"lev3\"><a href=\"#Thermische-Grenzen-des-Statorstrom-bei-Nennstrom\"><span class=\"toc-item-num\">3.1.1 - </span>Thermische Grenzen des Statorstrom bei Nennstrom</a></div><div class=\"lev3\"><a href=\"#Thermische-Grenzen-des-Rotorstroms-bei-Nennpolradspannung\"><span class=\"toc-item-num\">3.1.2 - </span>Thermische Grenzen des Rotorstroms bei Nennpolradspannung</a></div><div class=\"lev3\"><a href=\"#Stabilitätsgrenze\"><span class=\"toc-item-num\">3.1.3 - </span>Stabilitätsgrenze</a></div><div class=\"lev3\"><a href=\"#Zeichnen-des-Leistungsdiagramms\"><span class=\"toc-item-num\">3.1.4 - </span>Zeichnen des Leistungsdiagramms</a></div><div class=\"lev1\"><a href=\"#Statische-Stabilität\"><span class=\"toc-item-num\">4 - </span>Statische Stabilität</a></div><div class=\"lev2\"><a href=\"#Leistungs-Winkel-Kennlinien\"><span class=\"toc-item-num\">4.1 - </span>Leistungs-Winkel-Kennlinien</a></div><div class=\"lev3\"><a href=\"#Feste-Netzdaten\"><span class=\"toc-item-num\">4.1.1 - </span>Feste Netzdaten</a></div><div class=\"lev3\"><a href=\"#Zeichnen-der-Leistungs-Winkel-Kennlinie-mit-variablen-Netzdaten\"><span class=\"toc-item-num\">4.1.2 - </span>Zeichnen der Leistungs-Winkel-Kennlinie mit variablen Netzdaten</a></div><div class=\"lev2\"><a href=\"#Synchronisierende-Leistung\"><span class=\"toc-item-num\">4.2 - </span>Synchronisierende Leistung</a></div><div class=\"lev3\"><a href=\"#Visualisierungen-der-synchronisierenden-Leistung\"><span class=\"toc-item-num\">4.2.1 - </span>Visualisierungen der synchronisierenden Leistung</a></div><div class=\"lev1\"><a href=\"#Zusammenfassung\"><span class=\"toc-item-num\">5 - </span>Zusammenfassung</a></div><div class=\"lev2\"><a href=\"#Überprüfung-der-Anforderungen-der-TAB-Mittelspannung-2008\"><span class=\"toc-item-num\">5.1 - </span>Überprüfung der Anforderungen der TAB Mittelspannung 2008</a></div><div class=\"lev2\"><a href=\"#Eingesetztes-Verfahren\"><span class=\"toc-item-num\">5.2 - </span>Eingesetztes Verfahren</a></div><div class=\"lev1\"><a href=\"#References\"><span class=\"toc-item-num\">6 - </span>References</a></div><div class=\"lev3\"><a href=\"#TODO\"><span class=\"toc-item-num\">6.0.1 - </span>TODO</a></div><div class=\"lev3\"><a href=\"#Now:\"><span class=\"toc-item-num\">6.0.2 - </span>Now:</a></div><div class=\"lev3\"><a href=\"#Reminder:\"><span class=\"toc-item-num\">6.0.3 - </span>Reminder:</a></div>"
   ]
  },
  {
   "cell_type": "markdown",
   "metadata": {},
   "source": [
    "# Einleitungg"
   ]
  },
  {
   "cell_type": "markdown",
   "metadata": {},
   "source": [
    "##  Motivation"
   ]
  },
  {
   "cell_type": "markdown",
   "metadata": {},
   "source": [
    "Seit 2015 müssen Blockheizkraftwerken müssen in Deutschland die Konformität mit den Netzanschlussbedingungen mit einem Zertifikat nach den FGW Richtlinien TR3, TR4 und TR8 nachweisen. Diese FGW Richtlinien werden seit 1992 in Arbeitskreisen entwickelt. Teilnehmer der Arbeitskreise sind Messinstitute, Beratungsfirmen, Netzbetreiber, Zertifizierer und Hersteller von Windenergie- und PV-Anlagen sowie seit kurzem auch Hersteller von Blockheizkraftwerken (BHKW).\n",
    "\n",
    "Bei der Anwendung und Anpassung der FGW Richtlinien für BHKWs gibt es aktuell in den Arbeitskreisen verstärkte Diskussionen. Ein Grund für die Diskussionen ist die grundsätzlich verschiedener Generatortechnik von BHKWs im Vergleich zu Windenergie- oder PV-Anlagen. Die Generatortechnik moderner Windenergie- und PV-Anlagen beruht auf leistungselektronische Umrichter, wohingegen für Stromerzeuger mit Diesel- und Gasmotoren ab einer Leistung von etwa 30 kW ein geregelter, bürstenloser und direkt netzgekoppelter Synchrongenerator verwendet wird. <a name=\"ref-1\"/>[(Rosa, 2013)](#cite-Rosa2013), S.32. \n",
    "\n",
    "Im Unterschied zu umrichterbbasierter Generatortechnik können für direkt netzgekoppelter Synchrongeneratoren bereits mit wenigen Datenblattwerten Aussagen bezüglich des Betriebsverhaltens gemacht werden. Auf Grundlage von Literaturwissen und Datenblattwerten sollen in dieser Arbeit zertifizierungsrelevante, belastbare Aussagen bezüglich des Betriebsverhaltens von BHKWs mit direkt netzgekoppelter Synchrongeneratoren errechnet werden. \n",
    "\n",
    "Malte Hof  <a href=\"malte.hof@iwes.fraunhofer.de\">malte.hof@iwes.fraunhofer.de</a> <br />\n",
    "Kassel, Januar 2006\n"
   ]
  },
  {
   "cell_type": "markdown",
   "metadata": {},
   "source": [
    "##  Präsentationsform"
   ]
  },
  {
   "cell_type": "markdown",
   "metadata": {},
   "source": [
    "Die gewählte Präsentationsform ist ein interaktives Jupyter Notebook (ehemals IPython Notebooks) https://jupyter.org/. Als besondere Präsentationsmöglichkeit bieten Jupyter Notebooks die Möglichkeit beschreibenden Text und Programmcode zu kombinieren sowie diese Elemente in einem Browser darzustellen bzw. auszuführen. Dieses Notebook verwendet Python-Code für die Berechnungen, sämtliche Berechnungsverfahren sind als Quellcode einsehbar. Python ist eine frei verfügbare Programmiersprache und bietet mit zahlreichen Packages vergleichbare Funktionalitäten wie z.B. MATLAB.\n",
    "\n",
    "Diese Arbeit (oder Notebook) ist online einsehbar unter: <span class=\"burk\">LINK</span>\n",
    "\n",
    "Zum Ausführen des Notebooks kann das open source Programm Jupyter Notebook lokal installiert werden, welches z.B. in dieser Python Distribution https://www.continuum.io/downloads enthalten ist. Alternativ kann die .ibynb Datei unter http://jupyter.org/ \"Try it in your browser\" hochgeladen werden und online ausgeführt werden.\n"
   ]
  },
  {
   "cell_type": "markdown",
   "metadata": {},
   "source": [
    "##  Initialisierung "
   ]
  },
  {
   "cell_type": "code",
   "execution_count": 17,
   "metadata": {
    "collapsed": false
   },
   "outputs": [
    {
     "name": "stdout",
     "output_type": "stream",
     "text": [
      "Init done: Wed Jan 13 15:18:30 2016\n"
     ]
    }
   ],
   "source": [
    "%run macros.py\n",
    "%matplotlib inline "
   ]
  },
  {
   "cell_type": "markdown",
   "metadata": {},
   "source": [
    "# Nennwerte der Synchronmaschine"
   ]
  },
  {
   "cell_type": "markdown",
   "metadata": {},
   "source": [
    "## Datenblattwerte"
   ]
  },
  {
   "cell_type": "markdown",
   "metadata": {},
   "source": [
    "Die Datenblattwerte werden entsprechend des Rechenbeispiels 6.1. (S.259) aus <a name=\"ref-2\"/>[(Crastan)](#cite-Crastan) exemplarisch angenommen."
   ]
  },
  {
   "cell_type": "code",
   "execution_count": 18,
   "metadata": {
    "collapsed": false,
    "format": "tab",
    "scrolled": true
   },
   "outputs": [],
   "source": [
    "col0,Sn_widg  =build_widget_col('Nennleistung:','$S_n$ [MVA]',10)\n",
    "col1,Un_widg  =build_widget_col('Nennspannung:','$U_n=U_r$ [kV]',6)\n",
    "col2,fn_widg  =build_widget_col('Nennfrequenz (elektrisch):','$f_n$ [Hz]',50)\n",
    "col3,Nn_widg  =build_widget_col('Nenndrehzahl:','$N_n$[RPM]',3000)\n",
    "col4,If0_widg =build_widget_col('Leerlauferregerstrom:','$I_{f0}$ [A]',100)\n",
    "col5,Rf_widg  =build_widget_col(\n",
    "                      'Rotorwiderstand:','$R_f$ [$\\mathrm{\\Omega}$]',0.3)\n",
    "col6,xd_widg  =build_widget_col('Synchrone Laengsreaktanz:','$x_d$ [pu]',1.8 )\n",
    "col7,xq_widg  =build_widget_col('Synchrone Querreaktanz:','$x_q$ [pu]',1.75)\n",
    "col8,r_widg   =build_widget_col('Statorwiderstand:','$r$ [pu]',0.002)\n",
    "col9,cosPhiN_widg =build_widget_col(\n",
    "     'Nennleistungsfaktor (neg.=ind, pos.=cap):','$cos\\\\varphi_n$ [-]',-0.85)\n",
    "\n",
    "widgetsBox=widgets.VBox([col0,col1,col2,col3,col4,col5,col6,col7,col8,col9])\n",
    "display(widgetsBox)"
   ]
  },
  {
   "cell_type": "markdown",
   "metadata": {},
   "source": [
    "![](http://imgur.com/QB2uqdP.png)"
   ]
  },
  {
   "cell_type": "markdown",
   "metadata": {},
   "source": [
    "## Abgeleitete Größen für den  Nennarbeitspunkt"
   ]
  },
  {
   "cell_type": "markdown",
   "metadata": {},
   "source": [
    "Aus den Datenblattwerten lassen sich gemäß des Rechenschemas aus <a name=\"ref-3\"/>[(Crastan)](#cite-Crastan), S. 259 f., die Polradspannung und der Polradwinkel für den Nennarbeitspunkt sowie weitere Größen für den Nennarbeitspunkt  ermitteln. "
   ]
  },
  {
   "cell_type": "code",
   "execution_count": 19,
   "metadata": {
    "collapsed": false,
    "hide_input": false,
    "scrolled": false
   },
   "outputs": [
    {
     "data": {
      "text/latex": [
       "Errechnete  Nennwerte:"
      ],
      "text/plain": [
       "<IPython.core.display.Latex object>"
      ]
     },
     "metadata": {},
     "output_type": "display_data"
    },
    {
     "data": {
      "text/latex": [
       "Nennstrom $I_n$: In= 0.9623 kA"
      ],
      "text/plain": [
       "<IPython.core.display.Latex object>"
      ]
     },
     "metadata": {},
     "output_type": "display_data"
    },
    {
     "data": {
      "text/latex": [
       "Bezugsimpedanz $Z_n$: Zn= 3.6 $\\Omega$"
      ],
      "text/plain": [
       "<IPython.core.display.Latex object>"
      ]
     },
     "metadata": {},
     "output_type": "display_data"
    },
    {
     "data": {
      "text/latex": [
       "Reaktanz $X_d$: Xd= 6.4800 $\\Omega$"
      ],
      "text/plain": [
       "<IPython.core.display.Latex object>"
      ]
     },
     "metadata": {},
     "output_type": "display_data"
    },
    {
     "data": {
      "text/latex": [
       "Reaktanz $X_q$: Xq= 6.3000 $\\Omega$"
      ],
      "text/plain": [
       "<IPython.core.display.Latex object>"
      ]
     },
     "metadata": {},
     "output_type": "display_data"
    },
    {
     "data": {
      "text/latex": [
       "$E_{pt}$: Ept= 8.4211 kV (2.43   pu) "
      ],
      "text/plain": [
       "<IPython.core.display.Latex object>"
      ]
     },
     "metadata": {},
     "output_type": "display_data"
    },
    {
     "data": {
      "text/latex": [
       "Polradwinkel $\\delta$: dlt= 37.70 $^{\\circ}$"
      ],
      "text/plain": [
       "<IPython.core.display.Latex object>"
      ]
     },
     "metadata": {},
     "output_type": "display_data"
    },
    {
     "data": {
      "text/latex": [
       "Polradspannung $E_p$: Ep= 8.5834 kV (2.48   pu)"
      ],
      "text/plain": [
       "<IPython.core.display.Latex object>"
      ]
     },
     "metadata": {},
     "output_type": "display_data"
    },
    {
     "data": {
      "text/latex": [
       "Amplitude der Polradspannung $\\hat{E}_p$: EpInst= 12.1387 kV (3.50   pu)"
      ],
      "text/plain": [
       "<IPython.core.display.Latex object>"
      ]
     },
     "metadata": {},
     "output_type": "display_data"
    },
    {
     "data": {
      "text/latex": [
       "d-Komponente der Statorspannung: $U_d$: Ud= 2.1182 kV (0.61   pu)"
      ],
      "text/plain": [
       "<IPython.core.display.Latex object>"
      ]
     },
     "metadata": {},
     "output_type": "display_data"
    },
    {
     "data": {
      "text/latex": [
       "q-Komponente der Statorspannung: $U_q$: Uq= 2.7411 kV (0.79   pu)"
      ],
      "text/plain": [
       "<IPython.core.display.Latex object>"
      ]
     },
     "metadata": {},
     "output_type": "display_data"
    },
    {
     "data": {
      "text/latex": [
       "d-Komponente der Statorströme: $I_d$: Id= 0.9012 kA (0.94   pu)"
      ],
      "text/plain": [
       "<IPython.core.display.Latex object>"
      ]
     },
     "metadata": {},
     "output_type": "display_data"
    },
    {
     "data": {
      "text/latex": [
       "q-Komponente der Statorströme: $I_q$: Iq= 0.3372 kA (0.35   pu)"
      ],
      "text/plain": [
       "<IPython.core.display.Latex object>"
      ]
     },
     "metadata": {},
     "output_type": "display_data"
    },
    {
     "data": {
      "text/latex": [
       "Kopplungsreaktanz: $X_{hfd}$: Xhfd= 48.9898 $\\Omega$"
      ],
      "text/plain": [
       "<IPython.core.display.Latex object>"
      ]
     },
     "metadata": {},
     "output_type": "display_data"
    },
    {
     "data": {
      "text/latex": [
       "Erregger-Gleichstrom: $I_f$: Ifd= 247.7804 A (DC)"
      ],
      "text/plain": [
       "<IPython.core.display.Latex object>"
      ]
     },
     "metadata": {},
     "output_type": "display_data"
    },
    {
     "data": {
      "text/latex": [
       "Erregger-Gleichspannung: $U_f$: Ifd= 74.3341 V (DC)"
      ],
      "text/plain": [
       "<IPython.core.display.Latex object>"
      ]
     },
     "metadata": {},
     "output_type": "display_data"
    },
    {
     "data": {
      "text/latex": [
       "Erregger-Verlustleistung: $P_f$: Pf= 18.4185 kW (DC)"
      ],
      "text/plain": [
       "<IPython.core.display.Latex object>"
      ]
     },
     "metadata": {},
     "output_type": "display_data"
    },
    {
     "data": {
      "text/latex": [
       "Innere elektrische Leistung: $P_{ei}$: Pei= 8.5030 MW (0.85   pu)"
      ],
      "text/plain": [
       "<IPython.core.display.Latex object>"
      ]
     },
     "metadata": {},
     "output_type": "display_data"
    },
    {
     "data": {
      "text/latex": [
       "Inneres Drehmoment: $M$: M= 27.0658 kNm "
      ],
      "text/plain": [
       "<IPython.core.display.Latex object>"
      ]
     },
     "metadata": {},
     "output_type": "display_data"
    }
   ],
   "source": [
    "Sn =Sn_widg.value\n",
    "Un =Un_widg.value\n",
    "fn =fn_widg.value\n",
    "Nn =Nn_widg.value\n",
    "If0=If0_widg.value\n",
    "Rf =Rf_widg.value\n",
    "xd =xd_widg.value\n",
    "xq =xq_widg.value\n",
    "r  =r_widg.value\n",
    "cosPhiN=cosPhiN_widg.value\n",
    "\n",
    "If0 =If0/1e3 #Convert to kA\n",
    "UnLg =Un/np.sqrt(3) #Line to ground nominal voltage\n",
    "Zn=Un**2/Sn\n",
    "Xd= xd*Zn\n",
    "Xq= xq*Zn\n",
    "R =r*Zn\n",
    "In=Sn/(np.sqrt(3)*Un)\n",
    "phiN=np.arccos(abs(cosPhiN))\n",
    "InCpx = In*np.exp(1j*phiN*np.sign(cosPhiN))\n",
    "#Operating point values (set to nominal values)\n",
    "U0LgCpx=Un/np.sqrt(3) #Note division by sqrt(3)\n",
    "U0Lg=np.abs(U0LgCpx)\n",
    "\n",
    "Icpx =InCpx\n",
    "I=np.abs(Icpx)\n",
    "cosPhi=cosPhiN\n",
    "phi=np.arccos(abs(cosPhi))\n",
    "w=2*np.pi*fn\n",
    "wm =Nn/60 *2*np.pi\n",
    "n =w/wm #Relative or pu rotational speed (Crst 6.13)\n",
    "EptCpx=U0LgCpx+R*Icpx+1j*Xq*Icpx\n",
    "Ept=np.abs(EptCpx)\n",
    "dlt=np.angle(EptCpx)\n",
    "\n",
    "EpCpx=Ept+(Xd-Xq)*I*np.sin(phi+dlt)\n",
    "Ep=np.abs(EpCpx)\n",
    "Ud=U0Lg*np.sin(dlt)\n",
    "Uq=U0Lg*np.cos(dlt)\n",
    "Id=I*np.sin(dlt+phi)\n",
    "Iq=I*np.cos(dlt+phi)\n",
    "\n",
    "Xhfd= UnLg*np.sqrt(2)/If0\n",
    "IfDc =Ep*np.sqrt(2)/Xhfd\n",
    "UfDc =IfDc *Rf\n",
    "\n",
    "Scpx = 3*U0LgCpx*np.conj(Icpx)\n",
    "Ploss= 3* np.real(R/3*Icpx**2) #Stator losses  \n",
    "Pei=np.real(Scpx)+Ploss\n",
    "M=Pei/wm\n",
    "\n",
    "display(Latex('Errechnete  Nennwerte:'))\n",
    "display(Latex('Nennstrom $I_n$: In= %.4g kA' %In))\n",
    "display(Latex('Bezugsimpedanz $Z_n$: Zn= %g $\\Omega$' %Zn))\n",
    "display(Latex('Reaktanz $X_d$: Xd= %.4f $\\Omega$' %Xd))\n",
    "display(Latex('Reaktanz $X_q$: Xq= %.4f $\\Omega$' %Xq))\n",
    "\n",
    "display(Latex('$E_{pt}$: Ept= %.4f kV (%.2f   pu) '%(Ept,Ept/UnLg)))\n",
    "display(Latex('Polradwinkel $\\delta$: dlt= %.2f $^{\\circ}$' %(dlt*180/np.pi)))\n",
    "display(Latex('Polradspannung $E_p$: Ep= %.4f kV (%.2f   pu)'%(Ep,Ep/UnLg)))\n",
    "display(Latex(\n",
    "    'Amplitude der Polradspannung $\\hat{E}_p$: EpInst= %.4f kV (%.2f   pu)'\n",
    "        %(Ep*np.sqrt(2),Ep*np.sqrt(2)/UnLg)))\n",
    "display(Latex(\n",
    "        'd-Komponente der Statorspannung: $U_d$: Ud= %.4f kV (%.2f   pu)'\n",
    "         %(Ud,Ud/UnLg)))\n",
    "display(Latex(\n",
    "        'q-Komponente der Statorspannung: $U_q$: Uq= %.4f kV (%.2f   pu)'\n",
    "         %(Uq,Uq/UnLg)))\n",
    "display(Latex('d-Komponente der Statorströme: $I_d$: Id= %.4f kA (%.2f   pu)'\n",
    "              %(Id,Id/In)))\n",
    "display(Latex('q-Komponente der Statorströme: $I_q$: Iq= %.4f kA (%.2f   pu)'\n",
    "              %(Iq,Iq/In)))\n",
    "display(Latex('Kopplungsreaktanz: $X_{hfd}$: Xhfd= %.4f $\\Omega$' %Xhfd))\n",
    "display(Latex('Erregger-Gleichstrom: $I_f$: Ifd= %.4f A (DC)'%(IfDc*1e3)))\n",
    "display(Latex('Erregger-Gleichspannung: $U_f$: Ifd= %.4f V (DC)'%(UfDc*1e3)))\n",
    "display(Latex('Erregger-Verlustleistung: $P_f$: Pf= %.4f kW (DC)'\n",
    "              %(UfDc*IfDc*1e3))) #*3?\n",
    "display(Latex(\n",
    "        'Innere elektrische Leistung: $P_{ei}$: Pei= %.4f MW (%.2f   pu)'\n",
    "         %(Pei,Pei/Sn)))\n",
    "display(Latex('Inneres Drehmoment: $M$: M= %.4f kNm '%(M*1e3)))\n"
   ]
  },
  {
   "cell_type": "markdown",
   "metadata": {},
   "source": [
    "## Zeigerdiagramm"
   ]
  },
  {
   "cell_type": "markdown",
   "metadata": {},
   "source": [
    "Mit den Werten für die Größen $U,I,cos\\varphi,X_d$ und $I_n$ kann das Zeigerdiagramm für eine Vollpolmaschine gezeichnet werden. Die Größen $U,I,cos\\varphi$ werden dabei als Eingangsgrößen für den Betriebszustands interpretiert und das Zeigerdiagramm kann über entsprechende Einstellschieber interaktiv an den jeweiligen Betriebszustand angepasst werden."
   ]
  },
  {
   "cell_type": "code",
   "execution_count": 20,
   "metadata": {
    "collapsed": false
   },
   "outputs": [
    {
     "data": {
      "image/png": "[encoded data removed]",
      "text/plain": [
       "<matplotlib.figure.Figure at 0xa3fee80>"
      ]
     },
     "metadata": {},
     "output_type": "display_data"
    }
   ],
   "source": [
    "from pylab import rcParams\n",
    "rcParams['figure.figsize'] = 10, 10 #Set plot box size. Adapt if necessary.\n",
    "\n",
    "def drawPhasors(U,I,cosPhi):\n",
    "\n",
    "   phi=np.arccos(abs(cosPhi))\n",
    "   Icpx = I*np.exp(1j*phi*np.sign(cosPhi))\n",
    "   UlgCpx=U/sqrt(3)  \n",
    "\n",
    "   EptCpx=UlgCpx+R*Icpx+1j*Xq*Icpx\n",
    "   Ept=np.abs(EptCpx)\n",
    "   dlt=np.angle(EptCpx)\n",
    "   Ep=Ept+(Xd-Xq)*I*np.sin(phi+dlt)\n",
    "   EpCpx= Ep*np.exp(1j*dlt)\n",
    "  \n",
    "   IcpxScale=5 #Scaling factor for better viewability of I phasor.\n",
    "   \n",
    "   Uvec   = PositionVectorClass(np.array([0,0]),UlgCpx)\n",
    "   EpVec  = PositionVectorClass(np.array([0,0]),EpCpx)\n",
    "   Ivec   = PositionVectorClass(np.array([0,0]),Icpx*IcpxScale)\n",
    "   IXdVec = PositionVectorClass(Uvec.b,Icpx*1j*Xd )\n",
    "   \n",
    "   Uvec.draw(r'$\\underline{U}$',arrowColor='black' ,textColor='black',\n",
    "             xTextOffset=0 ,yTextOffset= 5)\n",
    "   EpVec.draw(r'$\\underline{E}_p$',arrowColor='red',textColor='red',\n",
    "              xTextOffset=-30 ,yTextOffset= 0)\n",
    "   Ivec.draw( str(IcpxScale)+r'$\\underline{I}$',arrowColor='blue',\n",
    "             textColor='blue',xTextOffset=0 ,yTextOffset= -25)\n",
    "   IXdVec.draw(r'$\\underline{I}X_d$',arrowColor='green' ,textColor='green'\n",
    "               ,xTextOffset=15,yTextOffset= 0)\n",
    "  \n",
    "   Uvec.angleDraw(EpVec,r'$\\delta$')\n",
    "   Uvec.angleDraw(Ivec,r'$\\varphi$')\n",
    "    \n",
    "   plt.ylim(-8,8) #Adapt if necessary\n",
    "   plt.xlim(-8,8)\n",
    "  \n",
    "   plt.grid()    \n",
    "   ax=plt.gca()\n",
    "   ax.set_xlabel('Re')\n",
    "   ax.set_ylabel('Im')\n",
    "   font = {'weight' : 'normal','size':16}\n",
    "   rc('font', **font) \n",
    "   #http://stackoverflow.com/questions/3899980/\n",
    "   #how-to-change-the-font-size-on-a-matplotlib-plot\n",
    "   \n",
    "   textLine1 =('$E_p=%.4f\\enspace\\mathrm{kV}\\enspace(%.2f\\mathrm{pu})$'\n",
    "                    %(np.abs(EpCpx),np.abs(EpCpx)/(Un/sqrt(3))) ) \n",
    "   \n",
    "   textLine2 =('$\\delta=%.2f^{\\circ}$'\n",
    "                    %np.angle(EpCpx,deg=True)) \n",
    "   \n",
    "   textLines =  \"%s\\n%s\" %(textLine1,textLine2)\n",
    "\n",
    "   props = dict(boxstyle='round', facecolor='white', alpha=0.5)\n",
    "   ax.text(0.05, 0.95, textLines, transform=plt.gca().transAxes, fontsize=18,\n",
    "   verticalalignment='top', bbox=props, color='red')\n",
    "   #Add boxed text: http://matplotlib.org/users/recipes.html\n",
    "  \n",
    "sldSteps=100\n",
    "U_Slider = widgets.FloatSlider(min= 0, max= Un,step=Un/sldSteps, \n",
    "                               value=round(Un,3),description=\"$U$ [kV]\")\n",
    "I_Slider = widgets.FloatSlider(min= -In, max=In,step=2*In/sldSteps, \n",
    "                               value=round(In,3),description=\"$I$ [kA]\")                                             \n",
    "cosPhi_Slider = widgets.FloatSlider(min=-1, max=1,step=2/sldSteps, \n",
    "                                   value= cosPhiN,description=\"$cos\\\\varphi$\")\n",
    "widgets.interactive(lambda a,b,c: drawPhasors(a,b,c),\n",
    "                    a=U_Slider,b=I_Slider,c=cosPhi_Slider)\n"
   ]
  },
  {
   "cell_type": "markdown",
   "metadata": {},
   "source": [
    "[Abbildung 1:](#Fig1) Zeigerdiagramm im Nennarbeitspunkt. Das Zeigerdiagramm in anderen Arbeitspunkten ist mit den Einstellschiebern darstellbar.  \n",
    "![PhasorSlidersPic](http://imgur.com/SMcyuGx.png)"
   ]
  },
  {
   "cell_type": "markdown",
   "metadata": {},
   "source": [
    "#  PQ-Diagramme"
   ]
  },
  {
   "cell_type": "markdown",
   "metadata": {},
   "source": [
    "## Leistungsdiagramm der Vollpolmaschine"
   ]
  },
  {
   "cell_type": "markdown",
   "metadata": {},
   "source": [
    "Das Leistungsdiagramm (\"PQ-Diagramm\") der idealen Vollpolmaschine beschreibt die Grenzen des Blindleistungsstellbereichs im stationären Fall. Die Grenzen des Leistungsdiagramms werden durch unterschiedliche Grenzen gebildet. Die jeweilgen Grenzen werden im Folgenden kurz betrachtet und anschließend im Leistungsdiagramm dargestellt.  "
   ]
  },
  {
   "cell_type": "markdown",
   "metadata": {},
   "source": [
    "### Thermische Grenzen des Statorstrom bei Nennstrom"
   ]
  },
  {
   "cell_type": "markdown",
   "metadata": {},
   "source": [
    "Die Thermische Grenzen des Statorstrom bei Nennstrom wird durch die Nennleistung definiert. Die Grenzen im Leistungsdiagramm entsprechen einem Kreis um den Ursprung mit Radius gleich der Nennleistung. In expliziter Form kann dieser Kreis als zwei Wurzelfunktionen beschrieben werden."
   ]
  },
  {
   "cell_type": "code",
   "execution_count": 21,
   "metadata": {
    "collapsed": false
   },
   "outputs": [],
   "source": [
    "QmaxStatAFun=lambda P:    np.sqrt(Sn**2-P**2)\n",
    "QmaxStatBFun=lambda P: -1*np.sqrt(Sn**2-P**2)"
   ]
  },
  {
   "cell_type": "markdown",
   "metadata": {},
   "source": [
    "### Thermische Grenzen des Rotorstroms bei Nennpolradspannung"
   ]
  },
  {
   "cell_type": "markdown",
   "metadata": {},
   "source": [
    "Die Herleitung der Formeln für die thermische Grenzen des Rotorstroms bei Nennpolradspannung beginnt mit den Formeln aus  <a name=\"ref-4\"/>[(Crastan)](#cite-Crastan), S. 274. Für die Wirk- und Blindleistungsabgabe der idealen Schenkelpolmaschine gilt:"
   ]
  },
  {
   "cell_type": "code",
   "execution_count": 22,
   "metadata": {
    "collapsed": false
   },
   "outputs": [
    {
     "data": {
      "image/png": "[encoded data removed]",
      "text/latex": [
       "$$P = \\frac{E_{p} Q_{d}}{U_{n}} u \\sin{\\left (\\delta \\right )}$$"
      ],
      "text/plain": [
       "    E_p⋅Q_d⋅u⋅sin(\\delta)\n",
       "P = ─────────────────────\n",
       "             U_n         "
      ]
     },
     "metadata": {},
     "output_type": "display_data"
    },
    {
     "data": {
      "image/png": "[encoded data removed]",
      "text/latex": [
       "$$Q = Q_{d} u \\left(\\frac{E_{p}}{U_{n}} \\cos{\\left (\\delta \\right )} - u\\right)$$"
      ],
      "text/plain": [
       "          ⎛E_p⋅cos(\\delta)    ⎞\n",
       "Q = Q_d⋅u⋅⎜─────────────── - u⎟\n",
       "          ⎝      U_n          ⎠"
      ]
     },
     "metadata": {},
     "output_type": "display_data"
    }
   ],
   "source": [
    "Psym,Qsym,uSym,QdSym,EpSym,UnSym,dltSym=sp.symbols(\n",
    "                                           r\"P,Q,u,Q_d,E_p,U_n,\\delta\")\n",
    "eq0= uSym*QdSym*EpSym/UnSym *sp.sin(dltSym) -Psym  #  P(dlt) term (Crst 6.94)\n",
    "eq1= uSym*QdSym*(EpSym/UnSym *sp.cos(dltSym) -uSym)-Qsym # Q(dlt) term \n",
    "display(sp.Eq(Psym,eq0+Psym))\n",
    "display(sp.Eq(Qsym,eq1+Qsym))"
   ]
  },
  {
   "cell_type": "markdown",
   "metadata": {},
   "source": [
    "In diesen Ausdrücken ist $\\delta$ der Polradwinkel und $Q_d$ die sogenannte charakteristische Blindleistung mit $Q_d=\\frac{3U^2_r}{X_d}$. Die per unit Statorspannung $u$ wird gleich der Nennspannung, also zu 1 pu angenommen."
   ]
  },
  {
   "cell_type": "code",
   "execution_count": 23,
   "metadata": {
    "collapsed": true
   },
   "outputs": [],
   "source": [
    "Qd=3*Un**2/Xd #(CRST 6.90)\n",
    "u=1"
   ]
  },
  {
   "cell_type": "markdown",
   "metadata": {},
   "source": [
    "Die obigen Ausdrücke für $P(\\delta)$ und $Q(\\delta)$ können jeweils nach $\\delta$ aufgelöst werden und ineinander eingesetzt werden um $\\delta$ zu ersetzen. Das Ergebnis sind jeweils zwei Terme für $P(Q)$ und $Q(P)$."
   ]
  },
  {
   "cell_type": "code",
   "execution_count": 24,
   "metadata": {
    "collapsed": false
   },
   "outputs": [
    {
     "data": {
      "image/png": "[encoded data removed]",
      "text/latex": [
       "$$P{\\left (Q \\right )} = - \\frac{E_{p} Q_{d}}{U_{n}} u \\sqrt{1 - \\frac{U_{n}^{2} \\left(Q + Q_{d} u^{2}\\right)^{2}}{E_{p}^{2} Q_{d}^{2} u^{2}}}$$"
      ],
      "text/plain": [
       "                         ________________________ \n",
       "                        ╱                      2  \n",
       "                       ╱         2 ⎛         2⎞   \n",
       "                      ╱       U_n ⋅⎝Q + Q_d⋅u ⎠   \n",
       "       -E_p⋅Q_d⋅u⋅   ╱    1 - ──────────────────  \n",
       "                    ╱               2    2  2     \n",
       "                  ╲╱             E_p ⋅Q_d ⋅u      \n",
       "P(Q) = ───────────────────────────────────────────\n",
       "                           U_n                    "
      ]
     },
     "metadata": {},
     "output_type": "display_data"
    },
    {
     "data": {
      "image/png": "[encoded data removed]",
      "text/latex": [
       "$$P{\\left (Q \\right )} = \\frac{E_{p} Q_{d}}{U_{n}} u \\sqrt{1 - \\frac{U_{n}^{2} \\left(Q + Q_{d} u^{2}\\right)^{2}}{E_{p}^{2} Q_{d}^{2} u^{2}}}$$"
      ],
      "text/plain": [
       "                        ________________________\n",
       "                       ╱                      2 \n",
       "                      ╱         2 ⎛         2⎞  \n",
       "                     ╱       U_n ⋅⎝Q + Q_d⋅u ⎠  \n",
       "       E_p⋅Q_d⋅u⋅   ╱    1 - ────────────────── \n",
       "                   ╱               2    2  2    \n",
       "                 ╲╱             E_p ⋅Q_d ⋅u     \n",
       "P(Q) = ─────────────────────────────────────────\n",
       "                          U_n                   "
      ]
     },
     "metadata": {},
     "output_type": "display_data"
    },
    {
     "data": {
      "image/png": "[encoded data removed]",
      "text/latex": [
       "$$Q{\\left (P \\right )} = Q_{d} u \\left(- \\frac{E_{p}}{U_{n}} \\sqrt{1 - \\frac{P^{2} U_{n}^{2}}{E_{p}^{2} Q_{d}^{2} u^{2}}} - u\\right)$$"
      ],
      "text/plain": [
       "             ⎛            __________________    ⎞\n",
       "             ⎜           ╱        2    2        ⎟\n",
       "             ⎜          ╱        P ⋅U_n         ⎟\n",
       "             ⎜  E_p⋅   ╱   1 - ────────────     ⎟\n",
       "             ⎜        ╱           2    2  2     ⎟\n",
       "             ⎜      ╲╱         E_p ⋅Q_d ⋅u      ⎟\n",
       "Q(P) = Q_d⋅u⋅⎜- ──────────────────────────── - u⎟\n",
       "             ⎝              U_n                 ⎠"
      ]
     },
     "metadata": {},
     "output_type": "display_data"
    },
    {
     "data": {
      "image/png": "[encoded data removed]",
      "text/latex": [
       "$$Q{\\left (P \\right )} = Q_{d} u \\left(\\frac{E_{p}}{U_{n}} \\sqrt{1 - \\frac{P^{2} U_{n}^{2}}{E_{p}^{2} Q_{d}^{2} u^{2}}} - u\\right)$$"
      ],
      "text/plain": [
       "             ⎛          __________________    ⎞\n",
       "             ⎜         ╱        2    2        ⎟\n",
       "             ⎜        ╱        P ⋅U_n         ⎟\n",
       "             ⎜E_p⋅   ╱   1 - ────────────     ⎟\n",
       "             ⎜      ╱           2    2  2     ⎟\n",
       "             ⎜    ╲╱         E_p ⋅Q_d ⋅u      ⎟\n",
       "Q(P) = Q_d⋅u⋅⎜──────────────────────────── - u⎟\n",
       "             ⎝            U_n                 ⎠"
      ]
     },
     "metadata": {},
     "output_type": "display_data"
    }
   ],
   "source": [
    "eq2=sp.solve(eq1,dltSym) #Solve Q(dlt) for load angle delta\n",
    "eq3a=eq0.subs(dltSym,eq2[0]) #Insert first solution for dlt in P(dlt) \n",
    "eq3b=eq0.subs(dltSym,eq2[1]) #Insert second solution for dlt in P(dlt)\n",
    "display(sp.Eq(Psym(Qsym),eq3a+Psym))#Show 1. term for P(Q) with elimiminated delta\n",
    "display(sp.Eq(Psym(Qsym),eq3b+Psym))#Show 2. term for P(Q) with elimiminated delta\n",
    "\n",
    "eq4=sp.solve(eq0,dltSym) #Solve P(dlt) for load angle delta\n",
    "eq5a=eq1.subs(dltSym,eq4[0]) #Insert first solution for dlt in Q(dlt) \n",
    "eq5b=eq1.subs(dltSym,eq4[1]) #Insert second solution for dlt in Q(dlt)\n",
    "display(sp.Eq(Qsym(Psym),eq5a+Qsym))#Show 1. term for Q(P) with elimiminated delta\n",
    "display(sp.Eq(Qsym(Psym),eq5b+Qsym))#Shwo 2. term for Q(P) with elimiminated delta"
   ]
  },
  {
   "cell_type": "markdown",
   "metadata": {},
   "source": [
    "In <a name=\"ref-5\"/>[(Crastan)](#cite-Crastan), S. 274 f. werden für die Herleitung des Leistungsdiagramms die Eigenschaften ähnlicher Dreiecke benützt. Davon abweichend wurden an dieser Stelle analytischen Ausdrücken verwendet. "
   ]
  },
  {
   "cell_type": "markdown",
   "metadata": {},
   "source": [
    "### Stabilitätsgrenze"
   ]
  },
  {
   "cell_type": "markdown",
   "metadata": {},
   "source": [
    "Entsprechend den angegeben Termen beschreibt Q(P) den Blindleistungsstellbereichs in Abhängigkeit von P. \n",
    "Aus Stabilitätsgründen wird der Blindleistungsstellbereichs jedoch weiter eingeschränkt. Der natürliche Stabilitätsbereich für den Polradwinkel liegt zwischen 0 und 90°. Bei Mitbetrachtung des Spannungsreglers kann der natürliche Stabilitätsbereich um einen künstlichen Stabilitätsbereich mit Polradwinkeln >90° erweitert werden. Dieser Fall wird hier jedoch nicht weiter verfolgt. Bei Annahme eines maximalen Polradwinkel von 90° folgt aus obigem Ausdruck für die Begrenzung der minimalen Blindleistung aus Stabilitätsgründen:\n",
    "\n",
    "$Q = Q_{d} u \\left(\\frac{E_{p}}{U_{n}} \\cos{\\left (\\delta \\right )} - u\\right)\n",
    "~~\\underrightarrow{\\delta=90°}~~ \n",
    "Q_{min}= -u^2Q_d$"
   ]
  },
  {
   "cell_type": "code",
   "execution_count": 25,
   "metadata": {
    "collapsed": false
   },
   "outputs": [],
   "source": [
    "QminMaxEqs =  sp.solve(eq3a+Psym,Qsym) \n",
    "#Solve P(Q)=0 resulting in two solutions for Qmin and Qmax\n",
    "Qmin2 =-u**2*Qd"
   ]
  },
  {
   "cell_type": "markdown",
   "metadata": {},
   "source": [
    "### Zeichnen des Leistungsdiagramms"
   ]
  },
  {
   "cell_type": "markdown",
   "metadata": {},
   "source": [
    "Für das Zeichnen des Leistungsdiagramms ist es notwendig symbolische durch numerische Werte zu ersetzen."
   ]
  },
  {
   "cell_type": "code",
   "execution_count": 26,
   "metadata": {
    "collapsed": false,
    "hide_input": false
   },
   "outputs": [],
   "source": [
    "eq6a=eq3a.subs([(UnSym,Un),(QdSym,Qd),(EpSym,Ep),(UnSym,Un),(uSym,u)])\n",
    "eq6b=eq3b.subs([(UnSym,Un),(QdSym,Qd),(EpSym,Ep),(UnSym,Un),(uSym,u)])\n",
    "eq7a=eq5a.subs([(UnSym,Un),(QdSym,Qd),(EpSym,Ep),(UnSym,Un),(uSym,u)])\n",
    "eq7b=eq5b.subs([(UnSym,Un),(QdSym,Qd),(EpSym,Ep),(UnSym,Un),(uSym,u)])\n",
    "\n",
    "PaFun=sp.lambdify(Qsym,(eq6a+Psym),\"numpy\") \n",
    "PbFun=sp.lambdify(Qsym,(eq6b+Psym),\"numpy\") \n",
    "QaFun=sp.lambdify(Psym,(eq7a+Qsym),\"numpy\") \n",
    "QbFun=sp.lambdify(Psym,(eq7b+Qsym),\"numpy\") \n",
    "#http://docs.sympy.org/dev/tutorial/basic_operations.html\n",
    "\n",
    "Qmin =float( QminMaxEqs[0].subs([(UnSym,Un),(QdSym,Qd),(EpSym,Ep),(UnSym,Un),\n",
    "                                 (uSym,u)]) )\n",
    "Qmax =float( QminMaxEqs[1].subs([(UnSym,Un),(QdSym,Qd),(EpSym,Ep),(UnSym,Un),\n",
    "                                 (uSym,u)]) )"
   ]
  },
  {
   "cell_type": "markdown",
   "metadata": {
    "hide_input": true
   },
   "source": [
    "Abschließend wird das Leistungsdiagramm in Anlehnung an <a name=\"ref-4\"/>[(Crastan)](#cite-Crastan), S. 275, Fig. 6.62 gezeichnet."
   ]
  },
  {
   "cell_type": "code",
   "execution_count": 27,
   "metadata": {
    "collapsed": false,
    "hide_input": false,
    "scrolled": true
   },
   "outputs": [
    {
     "name": "stderr",
     "output_type": "stream",
     "text": [
      "C:\\Users\\mhof\\Desktop\\Sym\\macros.py:182: RuntimeWarning: divide by zero encountered in double_scalars\n",
      "  slope2 = (l2xy[1][1] - l2xy[0][1]) / float(l2xy[1][0] - l2xy[0][0])\n"
     ]
    },
    {
     "data": {
      "image/png": "[encoded data removed]",
      "text/plain": [
       "<matplotlib.figure.Figure at 0xa6a4cc0>"
      ]
     },
     "metadata": {},
     "output_type": "display_data"
    }
   ],
   "source": [
    "plt.figure(num=None, figsize=(15, 15), dpi=80, facecolor='none', edgecolor='k')\n",
    "plt.axis('equal')\n",
    "ax = plt.gca()\n",
    "\n",
    "Parr = np.linspace(-Sn,Sn,num=10000,endpoint=False)\n",
    "plt.plot(QmaxStatAFun(Parr),Parr,'r-',\n",
    "         label='Thermische Grenze des Statorstroms bei Nennstrom')\n",
    "\n",
    "plt.plot(QmaxStatBFun(Parr),Parr,'r-')\n",
    "\n",
    "Qarr = np.linspace(Qmin,Qmax,num=100000,endpoint=False)\n",
    "plt.plot(Qarr,PaFun(Qarr),'b-',\n",
    "         label='Thermische Grenze des Rotorstroms bei Nennpolradspannung')\n",
    "plt.plot(Qarr,PbFun(Qarr),'b-')\n",
    "\n",
    "Pn=abs(Sn*cosPhiN) #Move\n",
    "plt.plot(ax.get_xlim(),(-Pn,-Pn),'r--',label='Nennwirkleistungsgrenzen')\n",
    "plt.plot(ax.get_xlim(),(Pn,Pn),'r--')\n",
    "plt.plot((Qmin2,Qmin2),ax.get_ylim(),'r-.',label='Stabilitaetsgrenze')\n",
    "\n",
    "#########\n",
    "xAxisLims =ax.get_xlim() #Plot cosPhi lines\n",
    "yAxisLims =ax.get_ylim() \n",
    "#Pmin_xAxisLim =yAxisLims[0]\n",
    "#Pmax_AxisLim  =yAxisLims[0]\n",
    "\n",
    "PgridCodeArr =np.linspace(0,yAxisLims[1]) #y-Axis limits gives P range\n",
    "\n",
    "QminGridCodeArr = -1*PgridCodeArr * tan(arccos(0.95))\n",
    "QmaxGridCodeArr =    PgridCodeArr * tan(arccos(0.95))\n",
    "\n",
    "QminGridCodeArr[QminGridCodeArr <  xAxisLims[0]] =  xAxisLims[0] \n",
    "QminGridCodeArr[QminGridCodeArr >  xAxisLims[1]] =  xAxisLims[1] \n",
    "#x-Axis limits give Q range\n",
    "\n",
    "QmaxGridCodeArr[QmaxGridCodeArr <  xAxisLims[0]] =  xAxisLims[0]\n",
    "QmaxGridCodeArr[QmaxGridCodeArr >  xAxisLims[1]] =  xAxisLims[1]\n",
    "plt.plot(QminGridCodeArr,PgridCodeArr,color='green',\n",
    "         label=\"TAB Mittelspannung 2008: $cos\\\\varphi=\\pm0.95$\" )\n",
    "plt.plot(QmaxGridCodeArr,PgridCodeArr,'green' )\n",
    "\n",
    "OpPmaxQmin=(Qmin2,Pn)\n",
    "OpPminQmin=(Qmin2,-Pn)\n",
    "OpPmaxQmax=(QbFun(Pn),Pn)\n",
    "OpPminQmax=(QbFun(-Pn),-Pn)\n",
    "\n",
    "#Plot points:\n",
    "plt.plot(OpPmaxQmax[0],OpPmaxQmax[1],color=\"blue\", marker='o',\n",
    "         fillstyle='full', markeredgewidth=0.0)\n",
    "plt.plot(0,0,color=\"red\", marker='o',fillstyle='full', markeredgewidth=0.0)\n",
    "plt.plot(Qmin2,0,color=\"blue\", marker='o',fillstyle='full', markeredgewidth=0.0)\n",
    "\n",
    "plt.text(OpPmaxQmax[0]+1,OpPmaxQmax[1]+1,'(Q_{max}|P_{max})')\n",
    "\n",
    "plt.annotate('',xy=(-30,1),xycoords='data',xytext=(-30, Pn),textcoords='data',\n",
    "             arrowprops={'arrowstyle': '<-'})\n",
    "plt.annotate('Generator', xy=(-30-5, 1), xycoords='data',xytext=(-30-5, Pn),\n",
    "             textcoords='offset points')\n",
    "             \n",
    "plt.annotate('',xy=(-30,-1),xycoords='data',xytext=(-30, -Pn),\n",
    "             textcoords='data',arrowprops={'arrowstyle': '<-'})\n",
    "plt.annotate('Motor', xy=(-30-5, -1), xycoords='data',xytext=(-30-5, -Pn),\n",
    "             textcoords='offset points')\n",
    "             \n",
    "plt.annotate('',xy=(-1,-12),xycoords='data',xytext=(Qmin2,-12),\n",
    "             textcoords='data', arrowprops={'arrowstyle': '<-'})\n",
    "plt.annotate('untererregt', xy=(-10, -12), xycoords='data',xytext=(Qmin2,-12),\n",
    "             textcoords='offset points')\n",
    "\n",
    "plt.annotate('',xy=(1,-12),xycoords='data',xytext=(QbFun(-12),-12),\n",
    "             textcoords='data',arrowprops={'arrowstyle': '<-'})\n",
    "plt.annotate('uebererregt', xy=(1,-12-1.5), xycoords='data',\n",
    "             xytext=(QbFun(-12),-1),textcoords='offset points')\n",
    "\n",
    "plt.legend(loc='upper left')\n",
    "\n",
    "line1 =plt.Line2D([Qmin2,OpPmaxQmax[0]],[0,OpPmaxQmax[1]],\n",
    "                  linewidth=1, linestyle = \"-\", color=\"black\")\n",
    "line2 =plt.Line2D([OpPmaxQmax[0],0],[OpPmaxQmax[1],0],\n",
    "                  linewidth=1, linestyle = \"-\", color=\"black\")\n",
    "line3 =plt.Line2D([Qmin2,OpPminQmax[0]],[0,OpPminQmax[1]],\n",
    "                  linewidth=1, linestyle = \"-\", color=\"black\")\n",
    "line4 =plt.Line2D([0,OpPminQmax[0]],[0,OpPminQmax[1]],\n",
    "                  linewidth=1, linestyle = \"-\", color=\"black\")\n",
    "ax.add_line(line1)\n",
    "ax.add_line(line2)\n",
    "#ax.add_line(line3)\n",
    "#ax.add_line(line4)\n",
    "\n",
    "line5 =plt.Line2D([Qmin2,8],[0,0], linewidth=1, linestyle = \"-\", color='red')\n",
    "#Invisble help line for angle plotting\n",
    "angle_plot = get_angle_plot(line1,line5)\n",
    "angle_text = get_angle_text(angle_plot) \n",
    "# Gets the arguments to be passed to ax.text as a list to display the angle \n",
    "#value besides the arcax.add_patch(angle_plot) \n",
    "ax.add_patch(angle_plot) # To display the angle arc\n",
    "ax.text(angle_text[0],angle_text[1],r\"$\\delta$=\"+angle_text[2]+r\"$^\\circ$\") \n",
    "# To display the angle value\n",
    "\n",
    "line6 =plt.Line2D([OpPmaxQmax[0],OpPmaxQmax[0]],[OpPmaxQmax[1],0],\n",
    "                  linewidth=1, linestyle = \":\", color='black')\n",
    "#Visible help line for angle plotting\n",
    "ax.add_line(line6)\n",
    "angle_plot = get_angle_plot(line2,line6,offset =-1)\n",
    "angle_text = get_angle_text(angle_plot) \n",
    "# Gets the arguments to be passed to ax.text as a list to display the angle\n",
    "# value besides the arc\n",
    "ax.add_patch(angle_plot) # To display the angle arc\n",
    "ax.text(angle_text[0],angle_text[1],r\"$\\varphi$=\"+ angle_text[2]+r\"$^\\circ$\")\n",
    "# To display the angle value\n",
    "\n",
    "ax.set_xlabel('Blindleistung Q [Mvar]')\n",
    "ax.set_ylabel('Wirkleistung P [MW] ')\n",
    "plt.grid()  \n",
    "font = {'weight' : 'normal','size':16}\n",
    "plt.rc('font', **font) #Change the font size for all plot elements \n",
    "plt.xlim(ax.get_xlim()[0],ax.get_xlim()[1]+2 ) #Adapt if necessary\n",
    "plt.show()\n",
    "\n"
   ]
  },
  {
   "cell_type": "markdown",
   "metadata": {},
   "source": [
    "[Abbildung 2:](#Fig2) Das Leistungsdiagramm (Blindleistungsstellbereich) der Synchronmaschine ergibt sich aus den  jeweiligen Grenzen für Stator- und Rotostrom, Nennwirkleistung sowie der Stabilitaetsgrenze. Eingezeichnet sind zusätzlich die Blindleistungsanforderung der TAB Mittelspannung 2008. Weiterhin ist der Arbeitspunkt der maximal Blindleistungsabga bei Nennwirkleistung markiert. Der Leistungsfaktor ergibt sich für diesen Punkt zu cos(33.42)=0.42.\n"
   ]
  },
  {
   "cell_type": "markdown",
   "metadata": {},
   "source": [
    "# Statische Stabilität"
   ]
  },
  {
   "cell_type": "markdown",
   "metadata": {},
   "source": [
    "## Leistungs-Winkel-Kennlinien"
   ]
  },
  {
   "cell_type": "markdown",
   "metadata": {},
   "source": [
    "Statische Stabilität von Synchronmaschinen kann mit Leistungs-Winkel-Kennlinien beurteilt werden. Betrachtet wird gemäß Abbildung 1a) eine Synchronmaschinen welche über einen Transformator und eine Leitung in eine Mittelspannungsnetz einspeist. Diese Anordnung entspricht dem sogenannten Ein-Maschinenproblem. Das Ersatzschaltbild aus Abbildung 1b) kann zum weiter verwendeten Ersatzschaltbild Abbildung 1c) vereinfacht werden. \n",
    "\n",
    "<p></p><figure>\n",
    "<img width=700  src=\"http://imgur.com/kko0zyN.png\" alt='missing' />\n",
    "</figure><p></p>\n",
    "[Abbildung 3:](#Fig3) Betrachtete Anordnung und abgeleitete Ersatzschaltbilder.\n",
    "\n",
    "\n",
    "\n",
    "Entsprechend  <a name=\"ref-4\"/>[(Crastan)](#cite-Crastan), 6.6.2.4 \"Wirk und Blindleistungsabgabe\" gilt:\n",
    "\n",
    "$\\large P= \\frac{E_{p} Q_{d}}{U_{r}} u \\sin{\\left (\\delta \\right )}$\n",
    "\n",
    "Dabei ist $u$ die bezogene Netzspannung $u=\\frac{U}{U_r}$ und $\\delta$ der Polradwinkel sowie $Q_d$ die sogenannte charakteristische Blindleistung:\n",
    "\n",
    "$\\large Q_d=\\frac{3U^2_r}{X_d}$\n",
    "\n",
    "Die synchrone Längsreaktanz $X_d$ des Generators wird mit dem Quadrat des Übersetzungsverhältnis a des Maschinentransformators auf die Oberspannungsseite transformiert $X_{dt}=a^2X_{d}$. Mit der resultierenden Netzimpedanz $X_N=X_T+X_L+X_Q$ wird die charakteristische Blindleistung nun definiert zu:\n",
    "\n",
    "$\\large Q_{dN}=\\frac{3U^2_r}{X_{dt}+X_N}$\n",
    "\n",
    "Für die Wirkleistungsabgabe der Anordnung entsprechend Abbildung 1c) gilt dann mit $E_{pT}=aE_{p}$:\n",
    "\n",
    "*Hinweis: Der Ausdruck $E_{pt}$ wird in <a name=\"ref-4\"/>[(Crastan)](#cite-Crastan) bereits anderweitig verwendet. Aus diesem Grund wird an dieser Stelle $E_{pT}$ als Symbol für die transformierte Polradspannung benützt.*\n",
    "\n",
    "$\\large P= \\frac{E_{pT} Q_{dN}}{U_{rt}} u \\sin{\\left (\\delta \\right )}$\n",
    "\n",
    "Dieser Ausdruck als Sinusfunktion $P(\\delta)$ aufgefasst beschreibt die resultierende Leistungs-Winkel-Kennlinie. \n",
    "\n",
    "Für die Blindleistungsabgabe der Anordnung entsprechend Abbildung 1c) gilt entsprechendes:\n",
    "\n",
    "$\\large Q = u Q_{dN} ( \\frac{E_{pT}}{U_{rt}} \\cos{\\left(\\delta \\right )-u)}$\n",
    "\n",
    "Für einen angenommen Wirkleistungswert und Leistungsfaktor (bzw. Blindleistungswert) kann aus den Ausdrücken für $P(\\delta)$ und  $Q(\\delta)$ durch ineinander Einsetzen die Erregerspannung $E_pT$ und Polradwinkel $\\delta$ bestimmt werden.\n",
    "\n"
   ]
  },
  {
   "cell_type": "markdown",
   "metadata": {
    "hide_input": true
   },
   "source": [
    "### Feste Netzdaten"
   ]
  },
  {
   "cell_type": "markdown",
   "metadata": {},
   "source": [
    "Die Netzdaten für die Abbilung x werden unterteilt in feste und variable Netzdaten."
   ]
  },
  {
   "cell_type": "code",
   "execution_count": 28,
   "metadata": {
    "collapsed": true
   },
   "outputs": [],
   "source": [
    "col0,SnTf_Widg   =build_widget_col(\n",
    "    'Transformator: Nennleistung:','$S_n$ [MVA]',10)\n",
    "col1,Urt_Widg    =build_widget_col(\n",
    "    'Transformator: Oberspannung :','$U_{rt}$ [kV]',20)\n",
    "col2,uk_Widg     =build_widget_col(\n",
    "    'Transformator: Kurzschlussleistung:','$u_k$[%]',7)\n",
    "col3,XsLine_Widg =build_widget_col(\n",
    "    'Leitung: Laengsimpedanz: ','$X_L^\\prime$ [$\\Omega/km$]',0.2)\n",
    "widgets.VBox([col0,col1,col2,col3])"
   ]
  },
  {
   "cell_type": "markdown",
   "metadata": {},
   "source": [
    "![GridFieldsPic](http://imgur.com/m5eLxWA.png)"
   ]
  },
  {
   "cell_type": "code",
   "execution_count": 29,
   "metadata": {
    "collapsed": false
   },
   "outputs": [],
   "source": [
    "#Dummy sliders\n",
    "LineLength=0\n",
    "Skss=100\n",
    "\n",
    "QdNsym,EpTsym,UrtSym=sp.symbols(r\"Q_{dN},E_{pT},U_{rt}\")\n",
    "eq8= uSym*QdNsym*EpTsym/UrtSym  *sp.sin(dltSym) -Psym #P(dlt) term (Crst 6.94)\n",
    "eq9= uSym*QdNsym*(EpTsym/UrtSym *sp.cos(dltSym) -uSym)-Qsym # Q(dlt) term \n",
    "\n",
    "eq10=sp.solve(eq9,EpTsym)[0] #Solve for EpT, only one solution.\n",
    "\n",
    "eq11=eq8.subs(EpTsym,eq10)#\n",
    "eq12=sp.solve(eq11,dltSym)[0]\n",
    "#Solve for delta, gives two solutions for dlt(P,Q) function,\n",
    "#Use only first one.\n"
   ]
  },
  {
   "cell_type": "markdown",
   "metadata": {},
   "source": [
    "### Zeichnen der Leistungs-Winkel-Kennlinie mit variablen Netzdaten"
   ]
  },
  {
   "cell_type": "code",
   "execution_count": 30,
   "metadata": {
    "collapsed": false,
    "hide_input": false
   },
   "outputs": [
    {
     "data": {
      "image/png": "[encoded data removed]",
      "text/plain": [
       "<matplotlib.figure.Figure at 0xa70df60>"
      ]
     },
     "metadata": {},
     "output_type": "display_data"
    }
   ],
   "source": [
    "SnTf=SnTf_Widg.value\n",
    "Urt=Urt_Widg.value\n",
    "uk=uk_Widg.value\n",
    "XsLine=XsLine_Widg.value\n",
    "\n",
    "Ur=Un #Todo: Change Un to Ur\n",
    "a= Urt/Ur\n",
    "Xdt= Xd*a**2\n",
    "X_T =uk/100* Urt**2/SnTf \n",
    "\n",
    "eq13=eq12.subs(EpTsym,Ep) \n",
    "dltFun=sp.lambdify((Psym,Qsym,uSym,QdNsym),eq13,\"numpy\") \n",
    "#Numerical dlt(P,Q,u,QdN) function\n",
    "                                              \n",
    "eq14=eq10.subs(UrtSym,Urt)\n",
    "EpTfun=sp.lambdify((dltSym,Qsym,uSym,QdNsym),eq14,\"numpy\") \n",
    "#Numerical EpT(dlt,Q,u,QdN) function\n",
    "\n",
    "def drawPowerAngleChar(P,cosPhi,u,LineLength,Skss):\n",
    "  \n",
    "   X_L=XsLine * LineLength \n",
    "   X_Q=Urt**2/Skss \n",
    "   X_N=X_T+X_L+X_Q\n",
    "   QdN =3*Urt**2/(Xdt+X_N)\n",
    "   Q= P*tan(arccos(cosPhi))\n",
    "   \n",
    "   dltDeg=dltFun(P,Q,u,QdN) *180/pi\n",
    "   EpT    =EpTfun(dltDeg *pi/180,Q,u,QdN) \n",
    "   \n",
    "   plt.plot(dltDeg,P,color=\"blue\", marker='o',fillstyle='full',\n",
    "            markeredgewidth=0.0)\n",
    " \n",
    "   dltDegArr =np.linspace(0,180)  \n",
    "   Parr =EpT*QdN/Urt*u*sin(dltDegArr *pi/180)   \n",
    "   plt.plot(dltDegArr,Parr)\n",
    "      \n",
    "   plt.axhline(y=P,linewidth=1, linestyle = \"--\", color=\"red\")\n",
    "   plt.axvline(x=dltDeg,linewidth=1, linestyle = \"--\", color=\"red\")\n",
    "   \n",
    "   plt.xlabel('Polradwinkel $\\delta$  [deg]')\n",
    "   plt.ylabel('Wirkleistung $P$ [MW]')\n",
    "   plt.grid(True)\n",
    "   font = {'weight' : 'normal','size':18}\n",
    "   plt.rc('font', **font) #Change the font size for all plot elements \n",
    "   \n",
    "   #Add boxed text: http://matplotlib.org/users/recipes.html\n",
    "   textStr=(\n",
    "   '$Ep=%.4f $$\\mathrm{kV}$$(%.2f $ $\\mathrm{pu})$\\n$\\delta=%.2f^{\\circ}$' \n",
    "   %(EpT,EpT/Ur,dltDeg) )\n",
    "   \n",
    "   props = dict(boxstyle='round', facecolor='white', alpha=0.5)\n",
    "   plt.gca().text(0.05,0.95,textStr,transform=plt.gca().transAxes,fontsize=18,\n",
    "   verticalalignment='top', bbox=props, color='black') \n",
    " \n",
    "   plt.ylim(0,20) #Comment for dynamic adjustment of axis scale\n",
    "   plt.show()\n",
    "     \n",
    "  \n",
    "P_Slider = widgets.FloatSlider(min=0,max=Pn,value=Pn,description=\"$P$ [MW] \")\n",
    "\n",
    "cosPhi_Slider = widgets.FloatSlider(min=-1, max=1, \n",
    "                                   value= cosPhiN,description=\"$cos\\\\varphi$\")\n",
    "u_Slider = widgets.FloatSlider(min= 0, max= 1,\n",
    "                             value=1,description=\"$u$ [pu]\")\n",
    "LineLength_Slider = widgets.FloatSlider(min=0, max=100,\n",
    "                             value=0,description=\"$length$ [km]\")                                             \n",
    "Skss_Slider = widgets.FloatSlider(min= 15, max=200,\n",
    "                            value=round(100,3),description=\"$S_k{''}$ [MVA]\")\n",
    "\n",
    "widgets.interactive(lambda a,b,c,d,e: drawPowerAngleChar(a,b,c,d,e),\n",
    "     a=P_Slider,b=cosPhi_Slider,c=u_Slider,d=LineLength_Slider,e=Skss_Slider)\n"
   ]
  },
  {
   "cell_type": "markdown",
   "metadata": {},
   "source": [
    "[Abbildung 4:](#Fig4) Leistungs-Winkel-Kennlinie in Abhängigkeit variabler Netzparamter. Polradspannung und der Polradwinkel sind entsprechend Arbeitspunkts angegeben.\n",
    "![PowerAngleSlidersPic](http://imgur.com/MI4taFN.png)"
   ]
  },
  {
   "cell_type": "markdown",
   "metadata": {},
   "source": [
    "## Synchronisierende Leistung"
   ]
  },
  {
   "cell_type": "markdown",
   "metadata": {},
   "source": [
    "Die sogenannte synchronisierende Leistung  einer Synchronmaschine ist die Ableitung der Leistungs-Winkel-Kennlinie nach dem Polradwinkel. Sie ist ein Maß für die Stabilität des Generators positive Werte kennzeichnen einen Stabilen Betrieb, 0 ist der indifferente Grenzfall und negative Werte kennzeichnen Instabilität. Entsprechend  <a name=\"ref-4\"/>[(Crastan)](#cite-Crastan), 6.6.2.4 \"Wirk und Blindleistungsabgabe\" gilt für die synchronisierende Leistung:\n",
    "  \n",
    "$\\large P_{sync}= u Q_{d} \\frac{E_{p}}{U_{r}} \\cos{\\left (\\delta \\right )}$"
   ]
  },
  {
   "cell_type": "markdown",
   "metadata": {},
   "source": [
    "### Visualisierungen der synchronisierenden Leistung"
   ]
  },
  {
   "cell_type": "code",
   "execution_count": 31,
   "metadata": {
    "collapsed": false,
    "scrolled": false
   },
   "outputs": [
    {
     "name": "stderr",
     "output_type": "stream",
     "text": [
      "C:\\Users\\mhof\\Anaconda3\\lib\\site-packages\\numpy\\__init__.py:1: RuntimeWarning: divide by zero encountered in double_scalars\n",
      "  \"\"\"\n",
      "C:\\Users\\mhof\\Anaconda3\\lib\\site-packages\\numpy\\__init__.py:1: RuntimeWarning: invalid value encountered in double_scalars\n",
      "  \"\"\"\n",
      "C:\\Users\\mhof\\Anaconda3\\lib\\site-packages\\matplotlib\\collections.py:590: FutureWarning: elementwise comparison failed; returning scalar instead, but in the future will perform elementwise comparison\n",
      "  if self._edgecolors == str('face'):\n"
     ]
    },
    {
     "data": {
      "image/png": "[encoded data removed]",
      "text/plain": [
       "<matplotlib.figure.Figure at 0x8b14ef0>"
      ]
     },
     "metadata": {},
     "output_type": "display_data"
    }
   ],
   "source": [
    "from numpy import ma\n",
    "from matplotlib import colors, ticker, cm\n",
    "from matplotlib.mlab import bivariate_normal\n",
    "\n",
    "Skss=Skss_Slider.value\n",
    "LineLength =LineLength_Slider.value\n",
    "\n",
    "@np.vectorize\n",
    "def func(x,y):\n",
    "    u=0.8\n",
    "    cosPhi=-0.6\n",
    "    \n",
    "    P=x\n",
    "    Skss   =y\n",
    "    \n",
    "    X_L=XsLine * LineLength \n",
    "    X_Q=Urt**2/Skss \n",
    "    X_N=X_T+X_L+X_Q\n",
    "    QdN =3*Urt**2/(Xdt+X_N)\n",
    "    Q= P*tan(arccos(cosPhi))\n",
    "   \n",
    "    dltDeg=dltFun(P,Q,u,QdN) *180/pi\n",
    "    EpT    =EpTfun(dltDeg *pi/180,Q,u,QdN) \n",
    "    #Skss   =y\n",
    "\n",
    "    #Skss   =y\n",
    "    \n",
    "\n",
    "    #cosPhi =x\n",
    "    #cosPhi=cosPhiN\n",
    "    #cosPhi=-0.7\n",
    "    \n",
    "    \n",
    "    #U0=Ur/sqrt(3) *u #Todo: check sqrt(3)\n",
    "    #I=P/(3*U0*abs(cosPhi))\n",
    "    #phi=arccos(abs(cosPhi))\n",
    " \n",
    "    #Icpx = I*np.exp(1j*phi*np.sign(cosPhi))\n",
    "   \n",
    "    #EptCpx=U0LgCpx+R*Icpx+1j*Xq*Icpx\n",
    "    #Ept=np.abs(EptCpx)\n",
    "    #dlt=np.angle(EptCpx)\n",
    "    #Ep=Ept #Assume xd=xq\n",
    "    \n",
    "    \n",
    "    #X_L=XsLine * LineLength \n",
    "    #X_Q=Un**2/Skss \n",
    "    #X_N=X_T+X_L+X_Q\n",
    "    #X_N=0\n",
    "    #QdN =3*Urt**2/(Xdt+X_N)\n",
    "     \n",
    "    #Ep=cosPhi #Change\n",
    "    #dlt=Skss #Change\n",
    "    Psync=u*QdN*EpT/Urt*cos(dltDeg *pi/180)    # Parr =Ep*a*QdN/Urt*u*sin(dltDegArr *pi/180)   \n",
    "    #print('x=P=%.4f, y=Skss=%.4f, Ep=%.4f, X_N=%.4f, Psync=%.4f '%(x,y,Ep,X_N,Psync))\n",
    "    #print('u=%.4f, QdN=%.4f, Urt=%.4f, dlt=%.4f ,cos(dlt)=%.4f '%(u,QdN,Urt,dlt,cos(dlt))\n",
    "    #print('u=%.4f, QdN=%.4f, Urt=%.4f,dlt=%.4f'%(u,QdN,Urt,dlt))\n",
    "    #print(' ')        \n",
    "    return Psync\n",
    "\n",
    "N = 100\n",
    "x = np.linspace(0, Pn, N)  #X=P\n",
    "#x = np.linspace(cosPhi_Slider.min, cosPhi_Slider.max, N)  #X=cosPhi\n",
    "y = np.linspace(Skss_Slider.min,Skss_Slider.max, N) #Y=Skss,\n",
    "X,Y = np.meshgrid(x,y)\n",
    "\n",
    "X = X.T\n",
    "Y = Y.T\n",
    "#X,Y = np.mgrid[1:3, 1:4]\n",
    "\n",
    "Z = func(X, Y)\n",
    "\n",
    "\n",
    "#pyplot.set_cmap('autumn')\n",
    "\n",
    "plt.contourf(X, Y, Z,cmap='jet_r')\n",
    "\n",
    "\n",
    "\n",
    "cbar = plt.colorbar(label='Synchronisierende Leistung $P_{sync}$ [MW]')\n",
    "#plt.xlabel('$cos\\\\varphi$')\n",
    "plt.xlabel(\"Wirkleistung P [MVA]\")\n",
    "\n",
    "plt.ylabel(\"$S_k{''}$ [MVA]\")\n",
    "#plt.zlabel(\"$S_k{''}$ [MVA]\")\n",
    "\n",
    "plt.grid(True)\n",
    "font = {'weight' : 'normal','size':18}\n",
    "plt.rc('font', **font) #Change the font size for all plot elements #http://stackoverflow.com/questions/3899980/how-to-change-the-font-size-on-a-matplotlib-plot\n",
    "plt.show()\n",
    "\n",
    "\n",
    "plt.show()\n",
    "\n",
    "\n"
   ]
  },
  {
   "cell_type": "markdown",
   "metadata": {},
   "source": [
    "[Abbildung 3:](#Fig3) Visualisierungen der synchronisierenden Leistung für variable Betriebszustände und Netzparameter."
   ]
  },
  {
   "cell_type": "markdown",
   "metadata": {},
   "source": [
    "# Zusammenfassung"
   ]
  },
  {
   "cell_type": "markdown",
   "metadata": {},
   "source": [
    "## Überprüfung der Anforderungen der TAB Mittelspannung 2008 "
   ]
  },
  {
   "cell_type": "markdown",
   "metadata": {},
   "source": [
    "## Eingesetztes Verfahren"
   ]
  },
  {
   "cell_type": "markdown",
   "metadata": {
    "collapsed": true
   },
   "source": [
    "\n",
    "Die Vorteile des hier vorgestellten Ansatzes liegen zum einen darin dass bereits aus wenigen Datenblattwerten  zertifizierungsrelevante Aussagen getroffen werden können und zum anderen in der Anpassbarkeit sowie Quelloffenheit der Rechenschritte. Es wäre vorstellbar entsprechende Zertifizierungsschritte mit den hier getätigten Aussagen zu ergänzen. "
   ]
  },
  {
   "cell_type": "markdown",
   "metadata": {},
   "source": [
    "# References\n",
    "\n",
    "<a name=\"cite-Rosa2013\"/><sup>[^](#ref-1) </sup>Rosa, Andreas. 2013. _Projektierung von Ersatzstromaggregaten_. [URL](http://www.amazon.de/Projektierung-von-Ersatzstromaggregaten-Stromerzeugungsaggregaten-VDE-Schriftenreihe/dp/3800735288)\n",
    "\n",
    "<a name=\"cite-Crastan\"/><sup>[^](#ref-2) [^](#ref-3) </sup>Crastan, Valentin. 2012. _Elektrische Energieversorgung 1: Netzelemente, Modellierung, station\\\"{ares Verhalten, Bemessung, Schalt- und Schutztechnik_. [URL](http://www.amazon.de/gp/product/3642223451/ref=pd\\_lpo\\_sbs\\_dp\\_ss\\_2?pf\\_rd\\_p=556245207\\&pf\\_rd\\_s=lpo-top-stripe\\&pf\\_rd\\_t=201\\&pf\\_rd\\_i=3540694390\\&pf\\_rd\\_m=A3JWKAKR8XB7XF\\&pf\\_rd\\_r=07AVYT6MPQ5MC8PPZNWB)\n",
    "\n",
    "\n"
   ]
  },
  {
   "cell_type": "markdown",
   "metadata": {},
   "source": [
    "### TODO"
   ]
  },
  {
   "cell_type": "markdown",
   "metadata": {},
   "source": [
    "###  Now:\n",
    "\n",
    "* 3d plot formulas\n",
    "* Seitengrenzen anpassen\n",
    "* 2. 3d plot mit roter Stab Grenze\n",
    "* Überprüfung TAB 2008 schrieben + Eings. Verfahren mehr Text\n",
    "* Div/0 error messages switch off \n",
    "* Upload git/Link in doc\n",
    "* Pics of Schiebers in Latex\n"
   ]
  },
  {
   "cell_type": "markdown",
   "metadata": {},
   "source": [
    "###  Reminder:\n",
    "\n",
    "* Biliography (Skss source?)\n",
    "* Pic cpations in Latex seperate\n",
    "* Latex maktetitle intro text\n",
    "* Check latex www and hyperlinks\n",
    "* Rechttschreib Check"
   ]
  },
  {
   "cell_type": "code",
   "execution_count": 32,
   "metadata": {
    "collapsed": false
   },
   "outputs": [
    {
     "name": "stdout",
     "output_type": "stream",
     "text": [
      "{\n",
      "  \"iopub_port\": 57121,\n",
      "  \"transport\": \"tcp\",\n",
      "  \"signature_scheme\": \"hmac-sha256\",\n",
      "  \"stdin_port\": 57122,\n",
      "  \"shell_port\": 57120,\n",
      "  \"hb_port\": 57124,\n",
      "  \"ip\": \"127.0.0.1\",\n",
      "  \"key\": \"9d868c80-f81c-42d1-98f9-ba94dd73e21a\",\n",
      "  \"control_port\": 57123\n",
      "}\n",
      "\n",
      "Paste the above JSON into a file, and connect with:\n",
      "    $> ipython <app> --existing <file>\n",
      "or, if you are local, you can connect with just:\n",
      "    $> ipython <app> --existing C:\\Users\\mhof\\AppData\\Roaming\\jupyter\\runtime\\kernel-7a8e061b-0fee-4063-b2b2-589f900a2f13.json \n",
      "or even just:\n",
      "    $> ipython <app> --existing \n",
      "if this is the most recent IPython session you have started.\n"
     ]
    }
   ],
   "source": [
    "%connect_info"
   ]
  },
  {
   "cell_type": "code",
   "execution_count": 33,
   "metadata": {
    "collapsed": false
   },
   "outputs": [
    {
     "ename": "NameError",
     "evalue": "name 'STOP_EXECUTE_ALL_DUMMY' is not defined",
     "output_type": "error",
     "traceback": [
      "\u001b[1;31m---------------------------------------------------------------------------\u001b[0m",
      "\u001b[1;31mNameError\u001b[0m                                 Traceback (most recent call last)",
      "\u001b[1;32m<ipython-input-33-c68c7d4eb2bd>\u001b[0m in \u001b[0;36m<module>\u001b[1;34m()\u001b[0m\n\u001b[1;32m----> 1\u001b[1;33m \u001b[0mSTOP_EXECUTE_ALL_DUMMY\u001b[0m\u001b[1;33m\u001b[0m\u001b[0m\n\u001b[0m",
      "\u001b[1;31mNameError\u001b[0m: name 'STOP_EXECUTE_ALL_DUMMY' is not defined"
     ]
    }
   ],
   "source": [
    "STOP_EXECUTE_ALL_DUMMY"
   ]
  },
  {
   "cell_type": "code",
   "execution_count": null,
   "metadata": {
    "collapsed": false
   },
   "outputs": [],
   "source": [
    "%%javascript //Move to custom.js\n",
    "require(['base/js/utils'],   //https://github.com/jupyter/notebook/issues/226\n",
    "function(utils) {\n",
    "     utils.load_extensions('calico-cell-tools') // C:\\ProgramData\\jupyter\\nbextensions\n",
    "     //utils.load_extensions('calico-spell-check')\n",
    "     utils.load_extensions('calico-document-tools')\n",
    "     //utils.load_extensions('IPython-notebook-extensions/nbextensions/usability/\\codefolding/main')\n",
    "    \n",
    "      ;\n",
    "});\n",
    "/* Installer: http://jupyter.cs.brynmawr.edu/hub/dblank/public/Jupyter%20Help.ipynb\n",
    "#!ipython install-nbextension https://bitbucket.org/ipre/calico/downloads/calico-spell-check-1.0.zip\n",
    "#!ipython install-nbextension https://bitbucket.org/ipre/calico/downloads/calico-document-tools-1.0.zip\n",
    "#!ipython install-nbextension https://bitbucket.org/ipre/calico/downloads/calico-cell-tools-1.0.zip\n",
    "*/"
   ]
  },
  {
   "cell_type": "code",
   "execution_count": null,
   "metadata": {
    "collapsed": true
   },
   "outputs": [],
   "source": []
  }
 ],
 "metadata": {
  "css": [
   ""
  ],
  "hide_input": false,
  "kernelspec": {
   "display_name": "Python 3",
   "language": "python",
   "name": "python3"
  },
  "language_info": {
   "codemirror_mode": {
    "name": "ipython",
    "version": 3
   },
   "file_extension": ".py",
   "mimetype": "text/x-python",
   "name": "python",
   "nbconvert_exporter": "python",
   "pygments_lexer": "ipython3",
   "version": "3.5.1"
  },
  "latex_envs": {
   "bibliofile": "biblio.bib",
   "cite_by": "apalike",
   "current_citInitial": 1,
   "eqLabelWithNumbers": true,
   "eqNumInitial": 0
  },
  "toc": {
   "toc_cell": true,
   "toc_number_sections": true,
   "toc_threshold": 4,
   "toc_window_display": true
  },
  "toc_position": {
   "left": "1725px",
   "right": "119px",
   "top": "234px",
   "width": "300px"
  }
 },
 "nbformat": 4,
 "nbformat_minor": 0
}
